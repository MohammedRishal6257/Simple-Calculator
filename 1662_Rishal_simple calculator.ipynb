{
 "cells": [
  {
   "cell_type": "markdown",
   "id": "11aca086-dfae-4d7c-8632-c0873efefde1",
   "metadata": {},
   "source": [
    "# SIMPLE CALCULATOR"
   ]
  },
  {
   "cell_type": "code",
   "execution_count": 13,
   "id": "89edc371-f9b2-4008-9c25-bb0444379b5d",
   "metadata": {},
   "outputs": [],
   "source": [
    "import tkinter as tk\n",
    "\n",
    "def click(event):\n",
    "    current = display.get()\n",
    "    text = event.widget.cget('text')\n",
    "    \n",
    "    if text == \"=\":\n",
    "        try:\n",
    "            result = eval(current)\n",
    "            display.delete(0, tk.END)\n",
    "            display.insert(tk.END, result)\n",
    "        except Exception as e:\n",
    "            display.delete(0, tk.END)\n",
    "            display.insert(tk.END, \"Error\")\n",
    "    elif text == \"C\":\n",
    "        display.delete(0, tk.END)\n",
    "    else:\n",
    "        display.insert(tk.END, text)\n",
    "\n",
    "window = tk.Tk()\n",
    "window.title(\"Calculator\")\n",
    "\n",
    "\n",
    "bg_color = \"#000000\"  \n",
    "fg_color = \"#FFFFFF\" \n",
    "c_button_bg = \"#0000FF\"  \n",
    "c_button_fg = \"#FFFFFF\" \n",
    "\n",
    "window.geometry(\"350x550\")  \n",
    "\n",
    "display = tk.Entry(window, font=(\"Arial\", 25), justify=\"right\", bg=bg_color, fg=fg_color)\n",
    "display.pack(fill=tk.X, padx=10, pady=10, ipady=10)\n",
    "\n",
    "btn_frame = tk.Frame(window, bg=bg_color)\n",
    "btn_frame.pack()\n",
    "\n",
    "button_labels = [\n",
    "    \"(\", \")\", \".\", \"%\",\n",
    "    \"7\", \"8\", \"9\", \"/\",\n",
    "    \"4\", \"5\", \"6\", \"*\",\n",
    "    \"3\", \"2\", \"1\", \"-\",\n",
    "    \"C\", \"0\", \"=\", \"+\",\n",
    "]\n",
    "\n",
    "i = 0\n",
    "for label in button_labels:\n",
    "    if label == \"C\":\n",
    "        button = tk.Button(btn_frame, text=label, font=(\"Arial\", 20), padx=20, pady=20, bg=c_button_bg, fg=c_button_fg)\n",
    "    else:\n",
    "        button = tk.Button(btn_frame, text=label, font=(\"Arial\", 18), padx=15, pady=15, bg=bg_color, fg=fg_color)\n",
    "    \n",
    "    button.grid(row=i // 4, column=i % 4, padx=5, pady=5)\n",
    "    button.bind(\"<Button-1>\", click)\n",
    "    i += 1\n",
    "\n",
    "window.mainloop()\n"
   ]
  },
  {
   "cell_type": "code",
   "execution_count": null,
   "id": "bdd353e6-28f0-4715-9e7c-b2f2bf58fd65",
   "metadata": {},
   "outputs": [],
   "source": []
  }
 ],
 "metadata": {
  "kernelspec": {
   "display_name": "Python 3 (ipykernel)",
   "language": "python",
   "name": "python3"
  },
  "language_info": {
   "codemirror_mode": {
    "name": "ipython",
    "version": 3
   },
   "file_extension": ".py",
   "mimetype": "text/x-python",
   "name": "python",
   "nbconvert_exporter": "python",
   "pygments_lexer": "ipython3",
   "version": "3.11.7"
  }
 },
 "nbformat": 4,
 "nbformat_minor": 5
}
